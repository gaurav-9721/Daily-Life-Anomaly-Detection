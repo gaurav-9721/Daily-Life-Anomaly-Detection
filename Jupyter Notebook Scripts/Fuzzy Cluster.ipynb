{
 "cells": [
  {
   "cell_type": "code",
   "execution_count": 5,
   "id": "82fc7003",
   "metadata": {},
   "outputs": [],
   "source": [
    "import pandas as pd\n",
    "import numpy as np\n",
    "import matplotlib.pyplot as plt"
   ]
  },
  {
   "cell_type": "code",
   "execution_count": 6,
   "id": "2eca6ccc",
   "metadata": {},
   "outputs": [],
   "source": [
    "Duration_Weight = {\n",
    "    'Eat':6,\n",
    "    'Sleep': 10,\n",
    "    'Medicine': 1\n",
    "}\n",
    "Start_Weight = {\n",
    "    'Medicine': 60,\n",
    "    'Eat':10,\n",
    "    'Sleep': 15\n",
    "}\n",
    "\n",
    "activities = {\n",
    "        'Eat':['Eat','Eat_Breakfast','Eat_Dinner','Eat_Lunch'], \n",
    "        'Sleep':['Sleep'],\n",
    "        'Medicine':['Morning_Meds', 'Evening_Meds']\n",
    "}"
   ]
  },
  {
   "cell_type": "code",
   "execution_count": 7,
   "id": "77dade33",
   "metadata": {},
   "outputs": [],
   "source": [
    "def to_duration(s, f):\n",
    "    s = to_hrs(s)\n",
    "    f = to_hrs(f)\n",
    "    m = (f-s)*60\n",
    "    m = float('%.2f'%m)\n",
    "    return m\n",
    "\n",
    "def to_hrs(ts):\n",
    "    h, m, s = map(int,ts.split(':'))\n",
    "    hrs = h + m/60\n",
    "    hrs = float('%.2f'%hrs)\n",
    "    return hrs\n",
    "    \n",
    "\n",
    "    "
   ]
  },
  {
   "cell_type": "code",
   "execution_count": 26,
   "id": "4f8d3f6a",
   "metadata": {},
   "outputs": [],
   "source": [
    "def tmf(x,a,b,c,d):\n",
    "    c1 = (x-a)/(b-a)\n",
    "    c2 = (d-x)/(d-c)\n",
    "    y = max(min(c1, c2, 1), 0)\n",
    "    return y\n",
    "    \n",
    "def tmf_abnormal_left(x, a, b):\n",
    "    if x < a:\n",
    "        return 1\n",
    "    elif x >= a and x <= b:\n",
    "        return (b-x)/(b-a)\n",
    "    elif x > b:\n",
    "        return 0\n",
    "    \n",
    "def tmf_abnormal_right(x, c, d):\n",
    "    if x < c:\n",
    "        return 0\n",
    "    elif x >= c and x <= d:\n",
    "        return (c-x)/(c-d)\n",
    "    elif x > d:\n",
    "        return 1\n",
    "    \n",
    "percentage_factor = 0.3\n",
    "def plot_fuzzy(sd, b,c, title):\n",
    "    \n",
    "    diff = c-b\n",
    "    a = b - (diff*percentage_factor)\n",
    "    d = c + (diff*percentage_factor)\n",
    "    \n",
    "    X = np.arange(a-diff, d+ diff, 0.01)\n",
    "    normal = [tmf(x,a,b,c,d) for x in X]\n",
    "    ab_left = [tmf_abnormal_left(x, a, b) for x in X]\n",
    "    ab_right = [tmf_abnormal_right(x, c, d) for x in X]\n",
    "    \n",
    "    plt.figure()\n",
    "    plt.plot(X, normal)\n",
    "    plt.plot(X, ab_left)\n",
    "    plt.plot(X, ab_right)\n",
    "    plt.title(title)\n",
    "    plt.ylim([0,1.1])\n",
    "    \n",
    "def get_abcd(b, c):\n",
    "    diff = c - b\n",
    "    a = b - (diff * percentage_factor)\n",
    "    d = c + (diff * percentage_factor)\n",
    "    return (a,b,c,d)"
   ]
  },
  {
   "cell_type": "code",
   "execution_count": 9,
   "id": "ae9bd1be",
   "metadata": {},
   "outputs": [],
   "source": [
    "normal_path = r'D:\\Daily Life Anomaly Detection\\CASAS_DATA\\HH111\\Activities\\Clusters\\Normal.csv'\n",
    "normal_df = pd.read_csv(normal_path)"
   ]
  },
  {
   "cell_type": "code",
   "execution_count": 10,
   "id": "f908b5d1",
   "metadata": {},
   "outputs": [],
   "source": [
    "read_path = r'D:\\Daily Life Anomaly Detection\\CASAS_DATA\\HH120\\processed_data\\Day1.csv'\n",
    "day_df = pd.read_csv(read_path)\n",
    "\n",
    "med_df = day_df.loc[day_df['Activity'].isin(activities['Medicine'])]\n",
    "eat_df = day_df.loc[day_df['Activity'].isin(activities['Eat'])]\n",
    "sleep_df = day_df.loc[day_df['Activity'].isin(activities['Sleep'])]"
   ]
  },
  {
   "cell_type": "code",
   "execution_count": 18,
   "id": "083a3aa1",
   "metadata": {},
   "outputs": [
    {
     "data": {
      "text/html": [
       "<div>\n",
       "<style scoped>\n",
       "    .dataframe tbody tr th:only-of-type {\n",
       "        vertical-align: middle;\n",
       "    }\n",
       "\n",
       "    .dataframe tbody tr th {\n",
       "        vertical-align: top;\n",
       "    }\n",
       "\n",
       "    .dataframe thead th {\n",
       "        text-align: right;\n",
       "    }\n",
       "</style>\n",
       "<table border=\"1\" class=\"dataframe\">\n",
       "  <thead>\n",
       "    <tr style=\"text-align: right;\">\n",
       "      <th></th>\n",
       "      <th>Activity</th>\n",
       "      <th>Label</th>\n",
       "      <th>Start</th>\n",
       "      <th>Duration</th>\n",
       "      <th>min_start</th>\n",
       "      <th>max_start</th>\n",
       "      <th>min_dur</th>\n",
       "      <th>max_dur</th>\n",
       "    </tr>\n",
       "  </thead>\n",
       "  <tbody>\n",
       "    <tr>\n",
       "      <th>0</th>\n",
       "      <td>Eat</td>\n",
       "      <td>Eat1</td>\n",
       "      <td>18.42</td>\n",
       "      <td>11.18</td>\n",
       "      <td>15.62</td>\n",
       "      <td>22.23</td>\n",
       "      <td>6.0</td>\n",
       "      <td>16.2</td>\n",
       "    </tr>\n",
       "    <tr>\n",
       "      <th>1</th>\n",
       "      <td>Eat</td>\n",
       "      <td>Eat2</td>\n",
       "      <td>7.51</td>\n",
       "      <td>13.33</td>\n",
       "      <td>5.98</td>\n",
       "      <td>8.83</td>\n",
       "      <td>6.0</td>\n",
       "      <td>19.8</td>\n",
       "    </tr>\n",
       "    <tr>\n",
       "      <th>2</th>\n",
       "      <td>Eat</td>\n",
       "      <td>Eat3</td>\n",
       "      <td>17.90</td>\n",
       "      <td>1.35</td>\n",
       "      <td>16.42</td>\n",
       "      <td>18.68</td>\n",
       "      <td>0.0</td>\n",
       "      <td>3.6</td>\n",
       "    </tr>\n",
       "    <tr>\n",
       "      <th>3</th>\n",
       "      <td>Eat</td>\n",
       "      <td>Eat4</td>\n",
       "      <td>12.18</td>\n",
       "      <td>9.92</td>\n",
       "      <td>11.37</td>\n",
       "      <td>13.67</td>\n",
       "      <td>2.4</td>\n",
       "      <td>15.0</td>\n",
       "    </tr>\n",
       "    <tr>\n",
       "      <th>4</th>\n",
       "      <td>Sleep</td>\n",
       "      <td>Sleep1</td>\n",
       "      <td>0.29</td>\n",
       "      <td>387.41</td>\n",
       "      <td>0.00</td>\n",
       "      <td>1.12</td>\n",
       "      <td>262.2</td>\n",
       "      <td>450.0</td>\n",
       "    </tr>\n",
       "    <tr>\n",
       "      <th>5</th>\n",
       "      <td>Sleep</td>\n",
       "      <td>Sleep2</td>\n",
       "      <td>23.09</td>\n",
       "      <td>43.74</td>\n",
       "      <td>21.73</td>\n",
       "      <td>23.98</td>\n",
       "      <td>0.0</td>\n",
       "      <td>125.4</td>\n",
       "    </tr>\n",
       "    <tr>\n",
       "      <th>6</th>\n",
       "      <td>Medicine</td>\n",
       "      <td>Medicine1</td>\n",
       "      <td>7.23</td>\n",
       "      <td>2.00</td>\n",
       "      <td>5.85</td>\n",
       "      <td>9.58</td>\n",
       "      <td>2.0</td>\n",
       "      <td>2.0</td>\n",
       "    </tr>\n",
       "    <tr>\n",
       "      <th>7</th>\n",
       "      <td>Medicine</td>\n",
       "      <td>Medicine2</td>\n",
       "      <td>22.43</td>\n",
       "      <td>2.00</td>\n",
       "      <td>21.05</td>\n",
       "      <td>23.95</td>\n",
       "      <td>2.0</td>\n",
       "      <td>2.0</td>\n",
       "    </tr>\n",
       "  </tbody>\n",
       "</table>\n",
       "</div>"
      ],
      "text/plain": [
       "   Activity      Label  Start  Duration  min_start  max_start  min_dur  \\\n",
       "0       Eat       Eat1  18.42     11.18      15.62      22.23      6.0   \n",
       "1       Eat       Eat2   7.51     13.33       5.98       8.83      6.0   \n",
       "2       Eat       Eat3  17.90      1.35      16.42      18.68      0.0   \n",
       "3       Eat       Eat4  12.18      9.92      11.37      13.67      2.4   \n",
       "4     Sleep     Sleep1   0.29    387.41       0.00       1.12    262.2   \n",
       "5     Sleep     Sleep2  23.09     43.74      21.73      23.98      0.0   \n",
       "6  Medicine  Medicine1   7.23      2.00       5.85       9.58      2.0   \n",
       "7  Medicine  Medicine2  22.43      2.00      21.05      23.95      2.0   \n",
       "\n",
       "   max_dur  \n",
       "0     16.2  \n",
       "1     19.8  \n",
       "2      3.6  \n",
       "3     15.0  \n",
       "4    450.0  \n",
       "5    125.4  \n",
       "6      2.0  \n",
       "7      2.0  "
      ]
     },
     "execution_count": 18,
     "metadata": {},
     "output_type": "execute_result"
    }
   ],
   "source": [
    "normal_df\n"
   ]
  },
  {
   "cell_type": "code",
   "execution_count": 12,
   "id": "5f8d906c",
   "metadata": {},
   "outputs": [
    {
     "data": {
      "text/html": [
       "<div>\n",
       "<style scoped>\n",
       "    .dataframe tbody tr th:only-of-type {\n",
       "        vertical-align: middle;\n",
       "    }\n",
       "\n",
       "    .dataframe tbody tr th {\n",
       "        vertical-align: top;\n",
       "    }\n",
       "\n",
       "    .dataframe thead th {\n",
       "        text-align: right;\n",
       "    }\n",
       "</style>\n",
       "<table border=\"1\" class=\"dataframe\">\n",
       "  <thead>\n",
       "    <tr style=\"text-align: right;\">\n",
       "      <th></th>\n",
       "      <th>Date</th>\n",
       "      <th>Start</th>\n",
       "      <th>Finish</th>\n",
       "      <th>Location</th>\n",
       "      <th>Activity</th>\n",
       "    </tr>\n",
       "  </thead>\n",
       "  <tbody>\n",
       "    <tr>\n",
       "      <th>0</th>\n",
       "      <td>2012-01-28</td>\n",
       "      <td>00:04:14</td>\n",
       "      <td>07:15:57</td>\n",
       "      <td>Bedroom</td>\n",
       "      <td>Sleep</td>\n",
       "    </tr>\n",
       "    <tr>\n",
       "      <th>35</th>\n",
       "      <td>2012-01-28</td>\n",
       "      <td>21:03:14</td>\n",
       "      <td>23:55:37</td>\n",
       "      <td>Bedroom</td>\n",
       "      <td>Sleep</td>\n",
       "    </tr>\n",
       "  </tbody>\n",
       "</table>\n",
       "</div>"
      ],
      "text/plain": [
       "          Date     Start    Finish Location Activity\n",
       "0   2012-01-28  00:04:14  07:15:57  Bedroom    Sleep\n",
       "35  2012-01-28  21:03:14  23:55:37  Bedroom    Sleep"
      ]
     },
     "execution_count": 12,
     "metadata": {},
     "output_type": "execute_result"
    }
   ],
   "source": [
    "sleep_df"
   ]
  },
  {
   "cell_type": "code",
   "execution_count": 39,
   "id": "9ab16fb8",
   "metadata": {},
   "outputs": [],
   "source": [
    "act = normal_df[normal_df['Activity'] == 'Sleep']\n",
    "actEat = normal_df[normal_df['Activity'] == 'Eat']"
   ]
  },
  {
   "cell_type": "code",
   "execution_count": 44,
   "id": "81ee8557",
   "metadata": {},
   "outputs": [
    {
     "data": {
      "image/png": "[encoded data removed]",
      "text/plain": [
       "<Figure size 432x288 with 1 Axes>"
      ]
     },
     "metadata": {
      "needs_background": "light"
     },
     "output_type": "display_data"
    },
    {
     "data": {
      "image/png": "[encoded data removed]",
      "text/plain": [
       "<Figure size 432x288 with 1 Axes>"
      ]
     },
     "metadata": {
      "needs_background": "light"
     },
     "output_type": "display_data"
    }
   ],
   "source": [
    "for i in range(len(act)):\n",
    "    row = act.iloc[i]\n",
    "    plot_fuzzy(row['Label'], row['min_start'], row['max_start'], 'Sleep Fuzzy')"
   ]
  },
  {
   "cell_type": "code",
   "execution_count": 38,
   "id": "93d76007",
   "metadata": {},
   "outputs": [
    {
     "name": "stdout",
     "output_type": "stream",
     "text": [
      "Sleep 1\n",
      "CLuster: 1\n",
      "{'Normal': 1, 'Abnormal Left': 0, 'Abnormal right': 0}\n",
      "CLuster: 2\n",
      "{'Normal': 0, 'Abnormal Left': 1, 'Abnormal right': 0}\n",
      "\n",
      "Sleep 2\n",
      "CLuster: 1\n",
      "{'Normal': 0, 'Abnormal Left': 0, 'Abnormal right': 1}\n",
      "CLuster: 2\n",
      "{'Normal': 0, 'Abnormal Left': 1, 'Abnormal right': 0}\n",
      "\n"
     ]
    }
   ],
   "source": [
    "for i in range(len(sleep_df)):\n",
    "    row = sleep_df.iloc[i]\n",
    "    st = to_hrs(row['Start'])\n",
    "    \n",
    "    print('Sleep', i+1)\n",
    "    for j in range(len(act)):\n",
    "        clus = act.iloc[j]\n",
    "        \n",
    "        minst = clus['min_start']\n",
    "        maxst = clus['max_start']\n",
    "        #print(st)\n",
    "        a,b,c,d = get_abcd(minst, maxst)\n",
    "        \n",
    "        n = tmf(st, a,b,c,d)\n",
    "        al = tmf_abnormal_left(st, a, b)\n",
    "        ar = tmf_abnormal_right(st, c, d)\n",
    "        print('CLuster:', j+1) \n",
    "        score = {\n",
    "            'Normal': n,\n",
    "            'Abnormal Left': al,\n",
    "            'Abnormal right': ar\n",
    "            \n",
    "        }\n",
    "        print(score)\n",
    "    print()"
   ]
  },
  {
   "cell_type": "code",
   "execution_count": 43,
   "id": "e53bc284",
   "metadata": {},
   "outputs": [
    {
     "name": "stdout",
     "output_type": "stream",
     "text": [
      "Eat 1\n",
      "CLuster: 1\n",
      "{'Normal': 0.9899142713061021, 'Abnormal Left': 0.010085728693897917, 'Abnormal right': 0}\n",
      "CLuster: 2\n",
      "{'Normal': 0, 'Abnormal Left': 0, 'Abnormal right': 1}\n",
      "CLuster: 3\n",
      "{'Normal': 0, 'Abnormal Left': 1, 'Abnormal right': 0}\n",
      "CLuster: 4\n",
      "{'Normal': 0, 'Abnormal Left': 0, 'Abnormal right': 1}\n",
      "\n"
     ]
    }
   ],
   "source": [
    "for i in range(len(eat_df)):\n",
    "    row = eat_df.iloc[i]\n",
    "    st = to_hrs(row['Start'])\n",
    "    \n",
    "    print('Eat', i+1)\n",
    "    for j in range(len(actEat)):\n",
    "        clus = actEat.iloc[j]\n",
    "        \n",
    "        minst = clus['min_start']\n",
    "        maxst = clus['max_start']\n",
    "        #print(st)\n",
    "        a,b,c,d = get_abcd(minst, maxst)\n",
    "        \n",
    "        n = tmf(st, a,b,c,d)\n",
    "        al = tmf_abnormal_left(st, a, b)\n",
    "        ar = tmf_abnormal_right(st, c, d)\n",
    "        print('CLuster:', j+1) \n",
    "        score = {\n",
    "            'Normal': n,\n",
    "            'Abnormal Left': al,\n",
    "            'Abnormal right': ar\n",
    "            \n",
    "        }\n",
    "        print(score)\n",
    "    print()"
   ]
  },
  {
   "cell_type": "code",
   "execution_count": null,
   "id": "0b2158bb",
   "metadata": {},
   "outputs": [],
   "source": []
  }
 ],
 "metadata": {
  "kernelspec": {
   "display_name": "Python 3",
   "language": "python",
   "name": "python3"
  },
  "language_info": {
   "codemirror_mode": {
    "name": "ipython",
    "version": 3
   },
   "file_extension": ".py",
   "mimetype": "text/x-python",
   "name": "python",
   "nbconvert_exporter": "python",
   "pygments_lexer": "ipython3",
   "version": "3.9.3"
  }
 },
 "nbformat": 4,
 "nbformat_minor": 5
}
